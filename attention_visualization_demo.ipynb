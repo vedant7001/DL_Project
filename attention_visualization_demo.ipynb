{
 "cells": [
  {
   "cell_type": "markdown",
   "id": "82e5f583",
   "metadata": {},
   "source": [
    "# Attention Visualization Demo\n",
    "\n",
    "This notebook demonstrates various techniques for visualizing attention weights in transformer-based models."
   ]
  },
  {
   "cell_type": "code",
   "execution_count": null,
   "id": "a49caec3",
   "metadata": {},
   "outputs": [],
   "source": [
    "import torch\n",
    "import numpy as np\n",
    "import matplotlib.pyplot as plt\n",
    "import seaborn as sns\n",
    "from attention_visualization import plot_attention_weights, visualize_attention_pattern, analyze_attention_pattern"
   ]
  },
  {
   "cell_type": "markdown",
   "id": "fc0172bf",
   "metadata": {},
   "source": [
    "## 1. Simple Attention Example\n",
    "\n",
    "Let's start with a simple example of attention weights between a query and a context."
   ]
  },
  {
   "cell_type": "code",
   "execution_count": null,
   "id": "fb3ee329",
   "metadata": {},
   "outputs": [],
   "source": [
    "# Example context and attention weights\n",
    "context_tokens = ['The', 'quick', 'brown', 'fox', 'jumps', 'over', 'the', 'lazy', 'dog']\n",
    "attention_weights = torch.softmax(torch.randn(1, len(context_tokens)), dim=-1)\n",
    "\n",
    "# Plot simple attention\n",
    "plt.figure(figsize=(12, 4))\n",
    "plot_attention_weights(attention_weights[0], context_tokens, title='Simple Attention Example')\n",
    "plt.show()"
   ]
  },
  {
   "cell_type": "markdown",
   "id": "d4d29c2d",
   "metadata": {},
   "source": [
    "## 2. Multi-Head Attention Visualization"
   ]
  },
  {
   "cell_type": "code",
   "execution_count": null,
   "id": "4182cb91",
   "metadata": {},
   "outputs": [],
   "source": [
    "# Create example multi-head attention\n",
    "num_heads = 8\n",
    "multi_head_attention = torch.softmax(torch.randn(1, num_heads, 1, len(context_tokens)), dim=-1)\n",
    "\n",
    "# Visualize multi-head attention\n",
    "visualize_attention_pattern({'attention': multi_head_attention}, context_tokens)\n",
    "plt.show()"
   ]
  },
  {
   "cell_type": "markdown",
   "id": "9c847d92",
   "metadata": {},
   "source": [
    "## 3. Cross-Attention Example"
   ]
  },
  {
   "cell_type": "code",
   "execution_count": null,
   "id": "ed643807",
   "metadata": {},
   "outputs": [],
   "source": [
    "# Example question and context for cross-attention\n",
    "question_tokens = ['What', 'color', 'is', 'the', 'fox']\n",
    "cross_attention = torch.softmax(torch.randn(len(question_tokens), len(context_tokens)), dim=-1)\n",
    "\n",
    "# Plot cross-attention\n",
    "plt.figure(figsize=(12, 6))\n",
    "plot_attention_weights(cross_attention, context_tokens, question_tokens, title='Cross-Attention Pattern')\n",
    "plt.show()"
   ]
  },
  {
   "cell_type": "markdown",
   "id": "5cc99a46",
   "metadata": {},
   "source": [
    "## 4. Attention Pattern Analysis"
   ]
  },
  {
   "cell_type": "code",
   "execution_count": null,
   "id": "dff3bad2",
   "metadata": {},
   "outputs": [],
   "source": [
    "# Analyze attention patterns\n",
    "analysis_results = analyze_attention_pattern(cross_attention, context_tokens)\n",
    "\n",
    "print(\"Attention Analysis Results:\")\n",
    "print(f\"Token with maximum attention: {analysis_results['max_attention_token']}\")\n",
    "print(f\"Maximum attention value: {analysis_results['max_attention_value']:.4f}\")\n",
    "print(f\"Attention entropy: {analysis_results['attention_entropy']:.4f}\")\n",
    "print(\"\\nTop 5 attended tokens:\")\n",
    "for token, weight in analysis_results['top_k_tokens']:\n",
    "    print(f\"  {token}: {weight:.4f}\")"
   ]
  }
 ],
 "metadata": {},
 "nbformat": 4,
 "nbformat_minor": 5
}
